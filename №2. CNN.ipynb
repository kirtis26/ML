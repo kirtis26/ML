{
 "cells": [
  {
   "cell_type": "markdown",
   "metadata": {},
   "source": [
    "## Домашнее задание 2. Классификация изображений. Сверточные нейронные сети.\n",
    "### О задании\n",
    "\n",
    "В этом задании потребуется обучить классификатор изображений. Будем работать с датасетом, название которого раскрывать не будем. Можете посмотреть самостоятельно на картинки, которые в есть датасете. В нём 200 классов и около 5 тысяч картинок на каждый класс. Классы пронумерованы, как нетрудно догадаться, от 0 до 199. Скачать датасет можно вот [тут](https://www.dropbox.com/s/33l8lp62rmvtx40/dataset.zip?dl=0).\n",
    "\n",
    "Структура датасета простая -- есть директории train/ и val/, в которых лежат обучающие и валидационные данные. В train/ и val/ лежат директориии, соответствующие классам изображений, в которых лежат, собственно, сами изображения.\n",
    "\n",
    "## №1\n",
    "Добейтесь accuracy **на валидации не менее 0.44**. В этом задании **запрещено** пользоваться предобученными моделями и ресайзом картинок. "
   ]
  },
  {
   "cell_type": "code",
   "execution_count": 1,
   "metadata": {},
   "outputs": [],
   "source": [
    "import numpy as np\n",
    "import torch\n",
    "import torchvision as tv\n",
    "from torchvision import transforms as T\n",
    "from tqdm.notebook import tqdm\n",
    "from tqdm import tqdm_notebook\n",
    "from torch import nn\n",
    "from torch.nn import functional as F\n",
    "from sklearn.metrics import accuracy_score\n",
    "import matplotlib.pyplot as plt\n",
    "from IPython.display import clear_output\n",
    "import random\n",
    "from copy import deepcopy"
   ]
  },
  {
   "cell_type": "markdown",
   "metadata": {},
   "source": [
    "### Подготовка данных"
   ]
  },
  {
   "cell_type": "code",
   "execution_count": null,
   "metadata": {},
   "outputs": [],
   "source": [
    "# Строка для работы в Colab\n",
    "!wget https://www.dropbox.com/s/33l8lp62rmvtx40/dataset.zip?dl=1 -O dataset.zip && unzip -q dataset.zip"
   ]
  },
  {
   "cell_type": "code",
   "execution_count": 2,
   "metadata": {},
   "outputs": [],
   "source": [
    "train_transform = T.Compose([\n",
    "    T.RandomCrop(64, padding=4),\n",
    "    T.RandomHorizontalFlip(),\n",
    "    T.RandomVerticalFlip(),\n",
    "    T.ToTensor(),\n",
    "    T.Normalize((0.4914, 0.4822, 0.4465), (0.2023, 0.1994, 0.2010)), # seminars 2-3 193\n",
    "])\n",
    "\n",
    "val_transform = T.Compose([\n",
    "    T.ToTensor(),\n",
    "    T.Normalize((0.4914, 0.4822, 0.4465), (0.2023, 0.1994, 0.2010)), # seminars 2-3 193\n",
    "])\n",
    "\n",
    "train_set = tv.datasets.ImageFolder(\"./dataset/dataset/train\", transform=train_transform)\n",
    "val_set = tv.datasets.ImageFolder(\"./dataset/dataset/val\", transform=val_transform)\n",
    "\n",
    "train_loader = torch.utils.data.DataLoader(train_set, batch_size=32, pin_memory=True, num_workers=2, shuffle=True)\n",
    "val_loader = torch.utils.data.DataLoader(val_set, batch_size=32, pin_memory=True, num_workers=2)"
   ]
  },
  {
   "cell_type": "code",
   "execution_count": 3,
   "metadata": {},
   "outputs": [
    {
     "name": "stdout",
     "output_type": "stream",
     "text": [
      "Test checks passed\n"
     ]
    }
   ],
   "source": [
    "# Простая проверка данных на вшивость (тип элементов сета, размерность элемента сета, тип таргета элемента)\n",
    "assert isinstance(train_set[0], tuple), 'Type elem sets is not a tuple '\n",
    "assert len(train_set[0]) == 2, 'Len element is not 2 (X, y)'\n",
    "assert isinstance(train_set[1][1], int), 'Target is not type int'\n",
    "print(\"Test checks passed\")"
   ]
  },
  {
   "cell_type": "code",
   "execution_count": 4,
   "metadata": {},
   "outputs": [
    {
     "name": "stdout",
     "output_type": "stream",
     "text": [
      "0\n"
     ]
    },
    {
     "data": {
      "image/png": "[encoded data removed]",
      "text/plain": [
       "<Figure size 432x288 with 1 Axes>"
      ]
     },
     "metadata": {
      "needs_background": "light"
     },
     "output_type": "display_data"
    }
   ],
   "source": [
    "plt.imshow(np.array(train_set[100][0][0])+np.array(train_set[100][0][1])+np.array(train_set[100][0][2]))\n",
    "print(train_set[100][1]) # Значение таргета картинки, хз что это за класс (животное какое-то)"
   ]
  },
  {
   "cell_type": "markdown",
   "metadata": {},
   "source": [
    "### Вспомогательные функции, реализация модели"
   ]
  },
  {
   "cell_type": "code",
   "execution_count": 5,
   "metadata": {},
   "outputs": [],
   "source": [
    "def SetRandomSeed(seed):\n",
    "    torch.backends.cudnn.deterministic = True\n",
    "    torch.manual_seed(seed)\n",
    "    torch.cuda.manual_seed(seed)\n",
    "    np.random.seed(seed)\n",
    "    random.seed(seed)"
   ]
  },
  {
   "cell_type": "code",
   "execution_count": 6,
   "metadata": {},
   "outputs": [],
   "source": [
    "class ConvNet(nn.Module): # seminars 2-3 193\n",
    "    def __init__(self, in_channels=3):\n",
    "        super().__init__()\n",
    "        self.features = nn.Sequential(\n",
    "            nn.Conv2d(in_channels, 16, kernel_size=3, padding=1),\n",
    "            nn.MaxPool2d(2),\n",
    "            nn.Conv2d(16, 32, kernel_size=3, padding=1),\n",
    "            nn.MaxPool2d(2),\n",
    "            nn.Conv2d(32, 32, kernel_size=3, padding=1),\n",
    "            nn.MaxPool2d(2),\n",
    "            nn.Conv2d(32, 64, kernel_size=3, padding=1),\n",
    "            nn.MaxPool2d(2),\n",
    "        )\n",
    "        \n",
    "        self.head = nn.Sequential(\n",
    "            nn.Linear(64, 64),\n",
    "            nn.ReLU(),\n",
    "            nn.Linear(64, 200)\n",
    "        )\n",
    "        \n",
    "    def forward(self, images):\n",
    "        features = self.features(images)\n",
    "        features = features.mean(dim=(2, 3))\n",
    "        logits = self.head(features)\n",
    "        return logits"
   ]
  },
  {
   "cell_type": "code",
   "execution_count": null,
   "metadata": {},
   "outputs": [],
   "source": [
    "class Coach(object):\n",
    "    \"\"\"\n",
    "    Класс объекта тренера (коучер), который обучает модель нейросетки\n",
    "    \"\"\"\n",
    "    def __init__(self, model, optimizer, criterion,\n",
    "                 device=\"cuda:0\", scheduler=None, count_epochs=2):\n",
    "        \n",
    "        self.model = model\n",
    "        self.optimizer = optimizer\n",
    "        self.criterion = criterion\n",
    "        self.device = device\n",
    "        self.scheduler = scheduler\n",
    "        \n",
    "        self.init_epoch = 1\n",
    "        self.end_epoch = count_epochs\n",
    "        self.epoch = self.init_epoch\n",
    "        \n",
    "        self.is_lr_const = False\n",
    "        self.best_accuracy = 0\n",
    "        self.best_model = deepcopy(self.model)"
   ]
  },
  {
   "cell_type": "code",
   "execution_count": null,
   "metadata": {},
   "outputs": [],
   "source": [
    "class GradTrainer:\n",
    "    def __init__(self, model, device, optimizer, criterion,\n",
    "                 scheduler=None, cnt_epochs=2, is_lr_const=False):\n",
    "        self.model = model\n",
    "        self.optimizer = optimizer\n",
    "        self.criterion = criterion\n",
    "        self.device = device\n",
    "        self.scheduler = scheduler\n",
    "        self.ClearData()\n",
    "        self.epoch = 1\n",
    "        self.start_epoch = 1\n",
    "        self.end_epoch = cnt_epochs\n",
    "        self.is_lr_const = is_lr_const\n",
    "        self.best_accuracy = 0\n",
    "        self.best_model = deepcopy(self.model)\n",
    "    \n",
    "\n",
    "    def _SaveIfBest(self):\n",
    "        if self.test_accuracies[-1] > self.best_accuracy:\n",
    "            self.best_model = deepcopy(self.model)\n",
    "\n",
    "\n",
    "    def _Drop(array_1, array_2):\n",
    "        array_1 = []\n",
    "        array_2 = []\n",
    "\n",
    "    \n",
    "    def MakePlotOverEpochs(self, ax, train, test, name):\n",
    "        if len(train) == len(test):\n",
    "            GradTrainer._Drop(train, test)\n",
    "\n",
    "        rang = range(1, self.epoch + 1)\n",
    "        if len(rang) != len(test):\n",
    "            rang = range(1, len(test) + 1)\n",
    "        ax.plot(rang, train, label='train')\n",
    "        ax.plot(rang, test, label='test')\n",
    "        ax.set_title(name + ' over epochs')\n",
    "        ax.set_ylabel(name)\n",
    "        ax.grid()\n",
    "        ax.set_xlabel('epoch')\n",
    "        ax.legend()\n",
    "        return ax\n",
    "\n",
    "    \n",
    "    def PlotLosses(self):\n",
    "        clear_output()\n",
    "        _, axs = plt.subplots(1, 2, figsize=(16, 8))\n",
    "        self.MakePlotOverEpochs(axs[0], self.train_losses, self.test_losses, 'Loss')\n",
    "        self.MakePlotOverEpochs(axs[1], self.train_accuracies, self.test_accuracies, 'Accuracy')\n",
    "        plt.show()\n",
    "        \n",
    "\n",
    "    def ClearData(self):\n",
    "        self.train_losses = []\n",
    "        self.test_losses = []\n",
    "        self.train_accuracies = []\n",
    "        self.test_accuracies = []\n",
    "\n",
    "\n",
    "    def _SaveLossAndAccuracy(self, loss, predicted_labels, true_labels, is_train=False):                              \n",
    "        accuracy = accuracy_score(predicted_labels.cpu(), true_labels.cpu())\n",
    "        if is_train:\n",
    "            self.train_losses += [loss]\n",
    "            self.train_accuracies += [accuracy]\n",
    "            return\n",
    "\n",
    "        self.test_losses += [loss]\n",
    "        self.test_accuracies += [accuracy]\n",
    "\n",
    "        \n",
    "    def _TrainPredict(self, data, labels):\n",
    "        if self.is_lr_const:\n",
    "            self.optimizer = torch.optim.Adam(self.model.parameters(), lr=5e-3)\n",
    "        self.optimizer.zero_grad()\n",
    "        outputs = self.model(data)\n",
    "        loss = self.criterion(outputs, labels)\n",
    "        loss.backward()\n",
    "        self.optimizer.step()\n",
    "\n",
    "        return outputs, loss\n",
    "\n",
    "    def _TestPredict(self, data, labels):\n",
    "        with torch.no_grad():\n",
    "            outputs = self.model(data)\n",
    "            loss = self.criterion(outputs, labels)\n",
    "        return outputs, loss\n",
    "\n",
    "\n",
    "    def _TrainOrTest(self, loader, is_train=False, is_saving=True):\n",
    "        true_labels = torch.Tensor().to(self.device)\n",
    "        predicted = torch.Tensor().to(self.device)\n",
    "        name = 'Training' if is_train else 'Testing'\n",
    "        running_loss = 0.0\n",
    "        for data, labels in tqdm(loader, desc=name + f' {self.epoch}/{self.end_epoch}'):\n",
    "            data = data.to(self.device)\n",
    "            labels = labels.to(self.device)\n",
    "            true_labels = torch.cat((labels, true_labels))\n",
    "\n",
    "            outputs, loss = self._TrainPredict(data, labels) if is_train else self._TestPredict(data, labels)\n",
    "\n",
    "            predicted = torch.cat((outputs, predicted))\n",
    "\n",
    "            if loss.item() != np.inf:\n",
    "                running_loss += loss.item() * data.shape[0]\n",
    "\n",
    "        loss = running_loss / len(loader.dataset)\n",
    "        predict_labels = torch.argmax(predicted, dim=1)\n",
    "        \n",
    "        if is_saving:\n",
    "            self._SaveLossAndAccuracy(loss, predict_labels, true_labels, is_train)\n",
    "\n",
    "        return loss, predict_labels, true_labels\n",
    "    \n",
    "\n",
    "    def Train(self, data_loader):\n",
    "        return self._TrainOrTest(data_loader, is_train=True)\n",
    "    \n",
    "\n",
    "    def Test(self, data_loader, is_saving=False):\n",
    "        return self._TrainOrTest(data_loader, is_train=False, is_saving=is_saving)\n",
    "    \n",
    "\n",
    "    def TestAndTrainOnce(self, train_loader, test_loader):\n",
    "        self.Train(train_loader)\n",
    "        self.Test(test_loader, is_saving=True)\n",
    "        self._SaveIfBest()\n",
    "        if self.scheduler is not None:\n",
    "            self.scheduler.step()\n",
    "    \n",
    "\n",
    "    def train(self, train_loader, test_loader):\n",
    "        if self.start_epoch > self.end_epoch:\n",
    "            return\n",
    "        for self.epoch in range(self.start_epoch, self.end_epoch + 1):\n",
    "            self.TestAndTrainOnce(train_loader, test_loader)\n",
    "            self.PlotLosses()\n",
    "            if self.is_lr_const and len(self.train_losses) > 1:\n",
    "                self.is_lr_const = (self.train_losses[-2] > self.train_losses[-1] or\n",
    "                                    self.train_losses[-1] < 1.5)"
   ]
  },
  {
   "cell_type": "code",
   "execution_count": 7,
   "metadata": {},
   "outputs": [
    {
     "ename": "SyntaxError",
     "evalue": "invalid syntax (<ipython-input-7-98b0ac1d95c5>, line 179)",
     "output_type": "error",
     "traceback": [
      "\u001b[1;36m  File \u001b[1;32m\"<ipython-input-7-98b0ac1d95c5>\"\u001b[1;36m, line \u001b[1;32m179\u001b[0m\n\u001b[1;33m    return cumulative_loss        self.start_epoch = self.end_epoch + 1\u001b[0m\n\u001b[1;37m                                  ^\u001b[0m\n\u001b[1;31mSyntaxError\u001b[0m\u001b[1;31m:\u001b[0m invalid syntax\n"
     ]
    }
   ],
   "source": [
    "def train(model, train_dataloader, eval_dataloader, criterion, optimizer, device=\"cuda:0\", n_epochs=10, schedulder=None):\n",
    "    for epoch in range(n_epochs):\n",
    "        train_one_epoch(model, train_dataloader, criterion, optimizer, device)\n",
    "        loss = evaluate(model, eval_dataloader, criterion, device)\n",
    "        if schedulder is not None:\n",
    "            scheduler.step(loss)\n",
    "    \n",
    "def train_one_epoch(model, train_dataloader, criterion, optimizer, device):\n",
    "    progress_bar = tqdm_notebook(train_dataloader)\n",
    "    model = model.to(device).train()\n",
    "    idx = 0\n",
    "    for (images, labels) in progress_bar:\n",
    "        images, labels = images.to(device), labels.to(device)\n",
    "        preds = model(images)\n",
    "        loss = criterion(preds, labels)\n",
    "        loss.backward()\n",
    "        optimizer.step()\n",
    "        optimizer.zero_grad()\n",
    "        if idx % 10 == 0:\n",
    "            progress_bar.set_description(\"Loss = {:.4f}\".format(loss.item()))\n",
    "        idx += 1\n",
    "        \n",
    "def evaluate(model, eval_dataloader, criterion, device=\"cuda:0\"):\n",
    "    cumulative_loss = 0\n",
    "    acc = 0\n",
    "    model = model.to(device).eval()\n",
    "    with torch.no_grad():\n",
    "        for idx, (images, labels) in enumerate(eval_dataloader): \n",
    "            images, labels = images.to(device), labels.to(device)\n",
    "            preds = model(images)\n",
    "            loss = criterion(preds, labels)\n",
    "            cumulative_loss += loss.item()\n",
    "            acc += (preds.argmax(1) == labels).float().mean()\n",
    "    print(\"Loss = {:.4f}\".format(cumulative_loss / idx), \"accuracy = {:.4f}\".format(acc / idx))\n",
    "    return cumulative_loss        self.start_epoch = self.end_epoch + 1"
   ]
  },
  {
   "cell_type": "markdown",
   "metadata": {},
   "source": [
    "### Обучение модели, запуски экспериментов"
   ]
  },
  {
   "cell_type": "code",
   "execution_count": null,
   "metadata": {},
   "outputs": [],
   "source": [
    "model = # THE MODEL THAT YOU CHOOSE\n",
    "optimizer = # YOUR OPTIMIZER\n",
    "criterion = # LOSS THAT YOU OPTIMIZE (SHOLD BE CROSS ENTROPY OR SMTH ELSE)\n",
    "scheduler = # LR SCHEDULE THAT YOU PROBABLY CHOOSE\n",
    "n_epochs = # NUMBER OF EPOCHS\n",
    "device = torch.device(\"cuda:0\") if torch.cuda.is_available() else torch.device(\"cpu\")\n",
    "\n",
    "seed = SetRandomSeed(111)\n",
    "device = SetupDevice()\n",
    "model = ConvNet().to(device)\n",
    "optimizer = torch.optim.Adam(model.parameters(), lr=5e-3)\n",
    "criterion = nn.CrossEntropyLoss()\n",
    "scheduler = None # torch.optim.lr_scheduler.ExponentialLR(optimizer, gamma=0.9)\n",
    "trainer = GradTrainer(model, device, optimizer, criterion, scheduler, cnt_epochs=10)"
   ]
  },
  {
   "cell_type": "code",
   "execution_count": null,
   "metadata": {},
   "outputs": [],
   "source": [
    "SetRandomSeed(111)"
   ]
  },
  {
   "cell_type": "markdown",
   "metadata": {},
   "source": [
    "### Проверка полученной accuracy"
   ]
  },
  {
   "cell_type": "markdown",
   "metadata": {},
   "source": [
    "После всех экспериментов которые вы проделали, выберите лучшую из своих моделей, реализуйте и запустите функцию evaluate. Эта функция должна брать на вход модель и даталоадер с валидационными данными и возврашать accuracy, посчитанную на этом датасете."
   ]
  },
  {
   "cell_type": "code",
   "execution_count": null,
   "metadata": {},
   "outputs": [],
   "source": [
    "all_losses, predicted_labels, true_labels = predict(model, val_dataloader, criterion, device)\n",
    "assert len(predicted_labels) == len(val_dataset)\n",
    "accuracy = accuracy_score(predicted_labels, true_labels)\n",
    "print(\"tests passed\")\n",
    "accuracy = 0.42\n",
    "print(f'Оценка за это задание составит {np.clip(10 * accuracy / 0.44, 0, 10):.2f} баллов,'\\\n",
    "      f' если вы делали часть 1, и {np.clip(10 * (accuracy - 0.5) / 0.34, 0, 10):.2f} баллов,'\\\n",
    "      f' если вы делали часть 2.')"
   ]
  },
  {
   "cell_type": "code",
   "execution_count": null,
   "metadata": {},
   "outputs": [],
   "source": [
    "all_losses, predicted_labels, true_labels = trainer.Test(val_loader)\n",
    "assert len(predicted_labels) == len(val_set)\n",
    "accuracy = accuracy_score(predicted_labels.cpu(), true_labels.cpu())\n",
    "print(\"tests passed\")"
   ]
  },
  {
   "cell_type": "code",
   "execution_count": null,
   "metadata": {},
   "outputs": [],
   "source": []
  }
 ],
 "metadata": {
  "kernelspec": {
   "display_name": "Python 3",
   "language": "python",
   "name": "python3"
  },
  "language_info": {
   "codemirror_mode": {
    "name": "ipython",
    "version": 3
   },
   "file_extension": ".py",
   "mimetype": "text/x-python",
   "name": "python",
   "nbconvert_exporter": "python",
   "pygments_lexer": "ipython3",
   "version": "3.8.5"
  }
 },
 "nbformat": 4,
 "nbformat_minor": 4
}
