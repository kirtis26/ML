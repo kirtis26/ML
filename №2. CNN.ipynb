{
  "cells": [
    {
      "cell_type": "markdown",
      "metadata": {
        "id": "-viHagLCUdCX"
      },
      "source": [
        "## Домашнее задание 2. Классификация изображений. Сверточные нейронные сети.\n",
        "### О задании\n",
        "\n",
        "В этом задании потребуется обучить классификатор изображений. Будем работать с датасетом, название которого раскрывать не будем. Можете посмотреть самостоятельно на картинки, которые в есть датасете. В нём 200 классов и около 5 тысяч картинок на каждый класс. Классы пронумерованы, как нетрудно догадаться, от 0 до 199. Скачать датасет можно вот [тут](https://www.dropbox.com/s/33l8lp62rmvtx40/dataset.zip?dl=0).\n",
        "\n",
        "Структура датасета простая -- есть директории train/ и val/, в которых лежат обучающие и валидационные данные. В train/ и val/ лежат директориии, соответствующие классам изображений, в которых лежат, собственно, сами изображения.\n",
        "\n",
        "## №1\n",
        "Добейтесь accuracy **на валидации не менее 0.44**. В этом задании **запрещено** пользоваться предобученными моделями и ресайзом картинок. "
      ]
    },
    {
      "cell_type": "code",
      "execution_count": 1,
      "metadata": {
        "id": "8Xtr5QYfUdCp"
      },
      "outputs": [],
      "source": [
        "import numpy as np\n",
        "import torch\n",
        "import torchvision as tv\n",
        "from torchvision import transforms as T\n",
        "from tqdm.notebook import tqdm\n",
        "from tqdm import tqdm_notebook\n",
        "from torch import nn\n",
        "from torch.nn import functional as F\n",
        "from sklearn.metrics import accuracy_score\n",
        "import matplotlib.pyplot as plt\n",
        "from IPython.display import clear_output\n",
        "import random\n",
        "from copy import deepcopy"
      ]
    },
    {
      "cell_type": "markdown",
      "metadata": {
        "id": "1ytaNFtUUdCv"
      },
      "source": [
        "### Подготовка данных"
      ]
    },
    {
      "cell_type": "code",
      "execution_count": 2,
      "metadata": {
        "colab": {
          "base_uri": "https://localhost:8080/"
        },
        "id": "KzrtVUJ2UdCy",
        "outputId": "4025151f-f169-4461-cefe-9b2fb66d63c2"
      },
      "outputs": [
        {
          "output_type": "stream",
          "name": "stdout",
          "text": [
            "--2022-01-29 19:39:16--  https://www.dropbox.com/s/33l8lp62rmvtx40/dataset.zip?dl=1\n",
            "Resolving www.dropbox.com (www.dropbox.com)... 162.125.5.18, 2620:100:601d:18::a27d:512\n",
            "Connecting to www.dropbox.com (www.dropbox.com)|162.125.5.18|:443... connected.\n",
            "HTTP request sent, awaiting response... 301 Moved Permanently\n",
            "Location: /s/dl/33l8lp62rmvtx40/dataset.zip [following]\n",
            "--2022-01-29 19:39:17--  https://www.dropbox.com/s/dl/33l8lp62rmvtx40/dataset.zip\n",
            "Reusing existing connection to www.dropbox.com:443.\n",
            "HTTP request sent, awaiting response... 302 Found\n",
            "Location: https://ucfb74542221c03959740624b658.dl.dropboxusercontent.com/cd/0/get/BeuRxko3v3G14yYo3hdp0oTae4QXXhbfPDpkHTB7FrdtpYDqhL4mEh-fpRDCx6l4VkS0HQoR_6NfngXq5Elhv4ubG8f-6ck1BnnAOy01q4nSLX4WxnLNBvt0lAGsLRRlQI3MoXf7fPo-sf8uPF-ZU5lN/file?dl=1# [following]\n",
            "--2022-01-29 19:39:17--  https://ucfb74542221c03959740624b658.dl.dropboxusercontent.com/cd/0/get/BeuRxko3v3G14yYo3hdp0oTae4QXXhbfPDpkHTB7FrdtpYDqhL4mEh-fpRDCx6l4VkS0HQoR_6NfngXq5Elhv4ubG8f-6ck1BnnAOy01q4nSLX4WxnLNBvt0lAGsLRRlQI3MoXf7fPo-sf8uPF-ZU5lN/file?dl=1\n",
            "Resolving ucfb74542221c03959740624b658.dl.dropboxusercontent.com (ucfb74542221c03959740624b658.dl.dropboxusercontent.com)... 162.125.5.15, 2620:100:601d:15::a27d:50f\n",
            "Connecting to ucfb74542221c03959740624b658.dl.dropboxusercontent.com (ucfb74542221c03959740624b658.dl.dropboxusercontent.com)|162.125.5.15|:443... connected.\n",
            "HTTP request sent, awaiting response... 200 OK\n",
            "Length: 220318689 (210M) [application/binary]\n",
            "Saving to: ‘dataset.zip’\n",
            "\n",
            "dataset.zip         100%[===================>] 210.11M  66.0MB/s    in 3.2s    \n",
            "\n",
            "2022-01-29 19:39:20 (66.0 MB/s) - ‘dataset.zip’ saved [220318689/220318689]\n",
            "\n",
            "replace dataset/dataset/train/class_000/00000.jpg? [y]es, [n]o, [A]ll, [N]one, [r]ename: no\n",
            "replace dataset/dataset/train/class_000/00001.jpg? [y]es, [n]o, [A]ll, [N]one, [r]ename: "
          ]
        }
      ],
      "source": [
        "# Строка для работы в Colab\n",
        "!wget https://www.dropbox.com/s/33l8lp62rmvtx40/dataset.zip?dl=1 -O dataset.zip && unzip -q dataset.zip"
      ]
    },
    {
      "cell_type": "code",
      "execution_count": 3,
      "metadata": {
        "id": "vM56OrhJUdC0"
      },
      "outputs": [],
      "source": [
        "train_transform = T.Compose([\n",
        "    T.RandomCrop(64, padding=4),\n",
        "    T.RandomHorizontalFlip(),\n",
        "    T.RandomVerticalFlip(),\n",
        "    T.ToTensor(),\n",
        "    T.Normalize((0.4914, 0.4822, 0.4465), (0.2023, 0.1994, 0.2010)), # seminars 2-3 193\n",
        "])\n",
        "\n",
        "val_transform = T.Compose([\n",
        "    T.ToTensor(),\n",
        "    T.Normalize((0.4914, 0.4822, 0.4465), (0.2023, 0.1994, 0.2010)), # seminars 2-3 193\n",
        "])\n",
        "\n",
        "train_set = tv.datasets.ImageFolder(\"./dataset/dataset/train\", transform=train_transform)\n",
        "val_set = tv.datasets.ImageFolder(\"./dataset/dataset/val\", transform=val_transform)\n",
        "\n",
        "train_loader = torch.utils.data.DataLoader(train_set, batch_size=32, pin_memory=True, num_workers=2, shuffle=True)\n",
        "val_loader = torch.utils.data.DataLoader(val_set, batch_size=32, pin_memory=True, num_workers=2)"
      ]
    },
    {
      "cell_type": "code",
      "execution_count": 4,
      "metadata": {
        "colab": {
          "base_uri": "https://localhost:8080/"
        },
        "id": "sXB86QVBUdC3",
        "outputId": "c438d570-90e0-4a87-b9b2-e7ac07c96f5b"
      },
      "outputs": [
        {
          "output_type": "stream",
          "name": "stdout",
          "text": [
            "Test checks passed\n"
          ]
        }
      ],
      "source": [
        "# Простая проверка данных на вшивость (тип элементов сета, размерность элемента сета, тип таргета элемента)\n",
        "assert isinstance(train_set[0], tuple), 'Type elem sets is not a tuple '\n",
        "assert len(train_set[0]) == 2, 'Len element is not 2 (X, y)'\n",
        "assert isinstance(train_set[1][1], int), 'Target is not type int'\n",
        "print(\"Test checks passed\")"
      ]
    },
    {
      "cell_type": "code",
      "execution_count": 6,
      "metadata": {
        "colab": {
          "base_uri": "https://localhost:8080/",
          "height": 285
        },
        "id": "uPSRMKSCUdC8",
        "outputId": "1f63c93a-7abe-4a78-f360-4c9396469a24"
      },
      "outputs": [
        {
          "output_type": "stream",
          "name": "stdout",
          "text": [
            "0\n"
          ]
        },
        {
          "output_type": "display_data",
          "data": {
            "image/png": "[encoded data removed]",
            "text/plain": [
              "<Figure size 432x288 with 1 Axes>"
            ]
          },
          "metadata": {
            "needs_background": "light"
          }
        }
      ],
      "source": [
        "plt.imshow(np.array(train_set[100][0][0])+np.array(train_set[100][0][1])+np.array(train_set[100][0][2]))\n",
        "print(train_set[100][1]) # Значение таргета картинки, хз что это за класс (животное какое-то)"
      ]
    },
    {
      "cell_type": "markdown",
      "metadata": {
        "id": "TRI8CvRVUdC_"
      },
      "source": [
        "### Вспомогательные функции, реализация модели"
      ]
    },
    {
      "cell_type": "code",
      "execution_count": 7,
      "metadata": {
        "id": "wUbJCkYyUdDB"
      },
      "outputs": [],
      "source": [
        "def SetRandomSeed(seed):\n",
        "    torch.backends.cudnn.deterministic = True\n",
        "    torch.manual_seed(seed)\n",
        "    torch.cuda.manual_seed(seed)\n",
        "    np.random.seed(seed)\n",
        "    random.seed(seed)"
      ]
    },
    {
      "cell_type": "code",
      "execution_count": 8,
      "metadata": {
        "id": "3hFbp31OUdDE"
      },
      "outputs": [],
      "source": [
        "class ConvNet(nn.Module): # seminars 2-3 193\n",
        "    def __init__(self, in_channels=3):\n",
        "        super().__init__()\n",
        "        self.features = nn.Sequential(\n",
        "            nn.Conv2d(in_channels, 16, kernel_size=3, padding=1),\n",
        "            nn.MaxPool2d(2),\n",
        "            nn.Conv2d(16, 32, kernel_size=3, padding=1),\n",
        "            nn.MaxPool2d(2),\n",
        "            nn.Conv2d(32, 32, kernel_size=3, padding=1),\n",
        "            nn.MaxPool2d(2),\n",
        "            nn.Conv2d(32, 64, kernel_size=3, padding=1),\n",
        "            nn.MaxPool2d(2),\n",
        "        )\n",
        "        \n",
        "        self.head = nn.Sequential(\n",
        "            nn.Linear(64, 64),\n",
        "            nn.ReLU(),\n",
        "            nn.Linear(64, 200)\n",
        "        )\n",
        "        \n",
        "    def forward(self, images):\n",
        "        features = self.features(images)\n",
        "        features = features.mean(dim=(2, 3))\n",
        "        logits = self.head(features)\n",
        "        return logits"
      ]
    },
    {
      "cell_type": "code",
      "execution_count": 19,
      "metadata": {
        "id": "PH1YImiGUdDI"
      },
      "outputs": [],
      "source": [
        "class Coach(object):\n",
        "    \"\"\"\n",
        "    Класс объекта тренера (коучер), который обучает модель нейросетки\n",
        "    \"\"\"\n",
        "    def __init__(self, model, optimizer, criterion,\n",
        "                 device, scheduler=None, n_epochs=2):\n",
        "        \n",
        "        self.model = model\n",
        "        self.optimizer = optimizer\n",
        "        self.criterion = criterion\n",
        "        self.device = device\n",
        "        self.scheduler = scheduler\n",
        "        \n",
        "        self.init_epoch = 1\n",
        "        self.n_epochs = n_epochs\n",
        "        self.epoch = self.init_epoch\n",
        "        \n",
        "        self.best_accuracy = 0\n",
        "        self.best_model = deepcopy(self.model)\n",
        "\n",
        "        self.train_losses = []\n",
        "        self.test_losses = []\n",
        "        self.train_accuracies = []\n",
        "        self.test_accuracies = []\n",
        "        \n",
        "    def run(self, train_loader, test_loader):\n",
        "        \n",
        "        for self.epoch in range(self.init_epoch, self.n_epochs + 1):\n",
        "            \n",
        "            self.__CalcPredict__(train_loader, train=True)\n",
        "            self.__CalcPredict__(test_loader, train=False, save=False)\n",
        "            \n",
        "            if self.scheduler is not None:\n",
        "                self.scheduler.step()\n",
        "            \n",
        "            self.plot()\n",
        "    \n",
        "    def plot(self):\n",
        "        clear_output()\n",
        "        fig, (ax1, ax2) = plt.subplots(nrows=1, ncols=2, figsize=(16, 8))\n",
        "        self.__PlotAxes__(ax1, self.train_losses, self.test_losses, 'Losses')\n",
        "        self.__PlotAxes__(ax2, self.train_accuracies, self.test_accuracies, 'Accuracy')\n",
        "        plt.show()\n",
        "    \n",
        "    def reset(self):\n",
        "        self.train_losses = []\n",
        "        self.test_losses = []\n",
        "        self.train_accuracies = []\n",
        "        self.test_accuracies = []\n",
        "    \n",
        "    def __CalcPredict__(self, loader, train=False, save=True):\n",
        "        \n",
        "        name = 'Training' if train else 'Testing'\n",
        "        true_labels = torch.Tensor().to(self.device)\n",
        "        predicted = torch.Tensor().to(self.device)\n",
        "        running_loss = 0.\n",
        "        \n",
        "        for data, labels in tqdm(loader, desc=name + f' {self.epoch}/{self.n_epochs}'):\n",
        "            data = data.to(self.device)\n",
        "            labels = labels.to(self.device)\n",
        "            true_labels = torch.cat((labels, true_labels))\n",
        "\n",
        "            outputs, loss = self.__TrainPredict__(data, labels) if train else self.__TestPredict__(data, labels)\n",
        "\n",
        "            predicted = torch.cat((outputs, predicted))\n",
        "\n",
        "            running_loss += loss.item() * data.shape[0]\n",
        "\n",
        "        loss = running_loss / len(loader.dataset)\n",
        "        predict_labels = torch.argmax(predicted, dim=1)\n",
        "        \n",
        "        if save:\n",
        "            self.__CalcLoss__(loss, predict_labels, true_labels, train)\n",
        "\n",
        "        return loss, predict_labels, true_labels\n",
        "    \n",
        "    def __TrainPredict__(self, data, labels):\n",
        "        self.optimizer.zero_grad()\n",
        "        outputs = self.model(data)\n",
        "        loss = self.criterion(outputs, labels)\n",
        "        loss.backward()\n",
        "        self.optimizer.step()\n",
        "        return outputs, loss\n",
        "\n",
        "    def __TestPredict__(self, data, labels):\n",
        "        \n",
        "        with torch.no_grad():\n",
        "            outputs = self.model(data)\n",
        "            loss = self.criterion(outputs, labels)  \n",
        "            \n",
        "        return outputs, loss\n",
        "    \n",
        "    def __CalcLoss__(self, loss, predicted_labels, true_labels, train=False):\n",
        "        accuracy = accuracy_score(predicted_labels.cpu(), true_labels.cpu())\n",
        "        \n",
        "        if train:\n",
        "            self.train_losses += [loss]\n",
        "            self.train_accuracies += [accuracy]\n",
        "            \n",
        "        self.test_losses += [loss]\n",
        "        self.test_accuracies += [accuracy]\n",
        "        \n",
        "        if self.test_accuracies[-1] > self.best_accuracy:\n",
        "            self.best_model = deepcopy(self.model) \n",
        "            \n",
        "    def __PlotAxes__(self, ax, train, test, name):\n",
        "        ax.plot(range(1, self.epoch + 1), train, label='Train')\n",
        "        ax.plot(range(1, self.epoch + 1), test, label='Test')\n",
        "        ax.set_title(name + f' over epochs {self.epoch}')\n",
        "        ax.set_ylabel(name)\n",
        "        ax.set_xlabel('epoch')\n",
        "        ax.legend()\n",
        "        ax.grid()"
      ]
    },
    {
      "cell_type": "markdown",
      "metadata": {
        "id": "yhO3EqwLUdDM"
      },
      "source": [
        "### Обучение модели, запуски экспериментов"
      ]
    },
    {
      "cell_type": "code",
      "execution_count": 20,
      "metadata": {
        "id": "ijZ3Xf9fUdDR"
      },
      "outputs": [],
      "source": [
        "seed = SetRandomSeed(111)\n",
        "device = torch.device(\"cuda:0\") if torch.cuda.is_available() else torch.device(\"cpu\")\n",
        "model = ConvNet().to(device)\n",
        "optimizer = torch.optim.Adam(model.parameters(), lr=5e-3)\n",
        "criterion = nn.CrossEntropyLoss()\n",
        "scheduler = None # torch.optim.lr_scheduler.ExponentialLR(optimizer, gamma=0.9)\n",
        "n_epochs = 2\n",
        "Trainer = Coach(model, optimizer, criterion, device, n_epochs=n_epochs)"
      ]
    },
    {
      "cell_type": "markdown",
      "source": [
        "#### Проверка правильности написанного кода"
      ],
      "metadata": {
        "id": "HtvP5QfVYKqt"
      }
    },
    {
      "cell_type": "code",
      "execution_count": 21,
      "metadata": {
        "colab": {
          "base_uri": "https://localhost:8080/",
          "height": 66,
          "referenced_widgets": [
            "ab1c1a64f61e4c0486093e001d315488",
            "beacd68c8b9443bab648aa028384cfe7",
            "723838c6391c49169a6cb590b7906d47",
            "d6403c5f16764b8ba21f5626a990010a",
            "69a45d362dcf491d808d587aafead750",
            "9e6d23ea07c54a1cbf19641ae7ba513a",
            "1a680fae445d40839ce6e720c860bb38",
            "d371a217e37f4186976b261c9bd8a509",
            "d056745a1af24df09d8e8d607b9235d9",
            "d04663cb70a048c7ba5a6d60e6f27b92",
            "23d15342e9ab4c96abf070e8396fc4e0"
          ]
        },
        "id": "FTHZP4EyUdDS",
        "outputId": "86e5f5fe-f3c8-422c-f1ed-08ed7c183768"
      },
      "outputs": [
        {
          "output_type": "display_data",
          "data": {
            "application/vnd.jupyter.widget-view+json": {
              "model_id": "ab1c1a64f61e4c0486093e001d315488",
              "version_minor": 0,
              "version_major": 2
            },
            "text/plain": [
              "Testing 1/2:   0%|          | 0/313 [00:00<?, ?it/s]"
            ]
          },
          "metadata": {}
        },
        {
          "output_type": "stream",
          "name": "stdout",
          "text": [
            "tests passed\n"
          ]
        }
      ],
      "source": [
        "all_losses, predicted_labels, true_labels = Trainer.__CalcPredict__(val_loader, save=False)\n",
        "assert len(predicted_labels) == len(val_set)\n",
        "accuracy = accuracy_score(predicted_labels.cpu(), true_labels.cpu())\n",
        "print(\"tests passed\")"
      ]
    },
    {
      "cell_type": "code",
      "execution_count": null,
      "metadata": {
        "colab": {
          "base_uri": "https://localhost:8080/",
          "height": 49,
          "referenced_widgets": [
            "4c2bb25f29364fcc960d3df4c12b14d1",
            "e79e7992f7df4e57af63e65f0ed5f3c3",
            "94a0f27b60c54960aa624b69b9f7479d",
            "f6d09baa758349fe9e6baed9da00c3e0",
            "a7a00af4f6334825918eae50a86e2f7b",
            "700d5042880b406ba4d835a9f46c3add",
            "fce51a3a21364135ad3042048089ac4a",
            "ce8ccf79c59b44b18214ca60d8815435",
            "8c21480180434d8bab8678e9062fde58",
            "42980e51de484a298e9538d347f7fabe",
            "fa35482a00dd4885aea331917a872362"
          ]
        },
        "id": "auaE047wUdDT",
        "outputId": "6a470384-4581-4b8e-c9de-b49df0782ab8"
      },
      "outputs": [
        {
          "output_type": "display_data",
          "data": {
            "application/vnd.jupyter.widget-view+json": {
              "model_id": "4c2bb25f29364fcc960d3df4c12b14d1",
              "version_minor": 0,
              "version_major": 2
            },
            "text/plain": [
              "Training 1/2:   0%|          | 0/3125 [00:00<?, ?it/s]"
            ]
          },
          "metadata": {}
        }
      ],
      "source": [
        "Trainer.run(train_loader, val_loader)"
      ]
    },
    {
      "cell_type": "markdown",
      "metadata": {
        "id": "8La6_kkyUdDU"
      },
      "source": [
        "### Проверка полученной accuracy"
      ]
    },
    {
      "cell_type": "markdown",
      "metadata": {
        "id": "15DSwbUEUdDW"
      },
      "source": [
        "После всех экспериментов которые вы проделали, выберите лучшую из своих моделей, реализуйте и запустите функцию evaluate. Эта функция должна брать на вход модель и даталоадер с валидационными данными и возврашать accuracy, посчитанную на этом датасете."
      ]
    },
    {
      "cell_type": "code",
      "execution_count": null,
      "metadata": {
        "id": "o5XZJM6eUdDY"
      },
      "outputs": [],
      "source": [
        "accuracy = 0.42\n",
        "print(f'Оценка за это задание составит {np.clip(10 * accuracy / 0.44, 0, 10):.2f} баллов,'\\\n",
        "      f' если вы делали часть 1, и {np.clip(10 * (accuracy - 0.5) / 0.34, 0, 10):.2f} баллов,'\\\n",
        "      f' если вы делали часть 2.')"
      ]
    },
    {
      "cell_type": "code",
      "execution_count": null,
      "metadata": {
        "id": "N1m54G2MUdDb"
      },
      "outputs": [],
      "source": [
        ""
      ]
    }
  ],
  "metadata": {
    "kernelspec": {
      "display_name": "Python 3",
      "language": "python",
      "name": "python3"
    },
    "language_info": {
      "codemirror_mode": {
        "name": "ipython",
        "version": 3
      },
      "file_extension": ".py",
      "mimetype": "text/x-python",
      "name": "python",
      "nbconvert_exporter": "python",
      "pygments_lexer": "ipython3",
      "version": "3.8.5"
    },
    "colab": {
      "name": "№2. CNN.ipynb",
      "provenance": [],
      "collapsed_sections": []
    },
    "widgets": {
      "application/vnd.jupyter.widget-state+json": {
        "ab1c1a64f61e4c0486093e001d315488": {
          "model_module": "@jupyter-widgets/controls",
          "model_name": "HBoxModel",
          "model_module_version": "1.5.0",
          "state": {
            "_view_name": "HBoxView",
            "_dom_classes": [],
            "_model_name": "HBoxModel",
            "_view_module": "@jupyter-widgets/controls",
            "_model_module_version": "1.5.0",
            "_view_count": null,
            "_view_module_version": "1.5.0",
            "box_style": "",
            "layout": "IPY_MODEL_beacd68c8b9443bab648aa028384cfe7",
            "_model_module": "@jupyter-widgets/controls",
            "children": [
              "IPY_MODEL_723838c6391c49169a6cb590b7906d47",
              "IPY_MODEL_d6403c5f16764b8ba21f5626a990010a",
              "IPY_MODEL_69a45d362dcf491d808d587aafead750"
            ]
          }
        },
        "beacd68c8b9443bab648aa028384cfe7": {
          "model_module": "@jupyter-widgets/base",
          "model_name": "LayoutModel",
          "model_module_version": "1.2.0",
          "state": {
            "_view_name": "LayoutView",
            "grid_template_rows": null,
            "right": null,
            "justify_content": null,
            "_view_module": "@jupyter-widgets/base",
            "overflow": null,
            "_model_module_version": "1.2.0",
            "_view_count": null,
            "flex_flow": null,
            "width": null,
            "min_width": null,
            "border": null,
            "align_items": null,
            "bottom": null,
            "_model_module": "@jupyter-widgets/base",
            "top": null,
            "grid_column": null,
            "overflow_y": null,
            "overflow_x": null,
            "grid_auto_flow": null,
            "grid_area": null,
            "grid_template_columns": null,
            "flex": null,
            "_model_name": "LayoutModel",
            "justify_items": null,
            "grid_row": null,
            "max_height": null,
            "align_content": null,
            "visibility": null,
            "align_self": null,
            "height": null,
            "min_height": null,
            "padding": null,
            "grid_auto_rows": null,
            "grid_gap": null,
            "max_width": null,
            "order": null,
            "_view_module_version": "1.2.0",
            "grid_template_areas": null,
            "object_position": null,
            "object_fit": null,
            "grid_auto_columns": null,
            "margin": null,
            "display": null,
            "left": null
          }
        },
        "723838c6391c49169a6cb590b7906d47": {
          "model_module": "@jupyter-widgets/controls",
          "model_name": "HTMLModel",
          "model_module_version": "1.5.0",
          "state": {
            "_view_name": "HTMLView",
            "style": "IPY_MODEL_9e6d23ea07c54a1cbf19641ae7ba513a",
            "_dom_classes": [],
            "description": "",
            "_model_name": "HTMLModel",
            "placeholder": "​",
            "_view_module": "@jupyter-widgets/controls",
            "_model_module_version": "1.5.0",
            "value": "Testing 1/2: 100%",
            "_view_count": null,
            "_view_module_version": "1.5.0",
            "description_tooltip": null,
            "_model_module": "@jupyter-widgets/controls",
            "layout": "IPY_MODEL_1a680fae445d40839ce6e720c860bb38"
          }
        },
        "d6403c5f16764b8ba21f5626a990010a": {
          "model_module": "@jupyter-widgets/controls",
          "model_name": "FloatProgressModel",
          "model_module_version": "1.5.0",
          "state": {
            "_view_name": "ProgressView",
            "style": "IPY_MODEL_d371a217e37f4186976b261c9bd8a509",
            "_dom_classes": [],
            "description": "",
            "_model_name": "FloatProgressModel",
            "bar_style": "success",
            "max": 313,
            "_view_module": "@jupyter-widgets/controls",
            "_model_module_version": "1.5.0",
            "value": 313,
            "_view_count": null,
            "_view_module_version": "1.5.0",
            "orientation": "horizontal",
            "min": 0,
            "description_tooltip": null,
            "_model_module": "@jupyter-widgets/controls",
            "layout": "IPY_MODEL_d056745a1af24df09d8e8d607b9235d9"
          }
        },
        "69a45d362dcf491d808d587aafead750": {
          "model_module": "@jupyter-widgets/controls",
          "model_name": "HTMLModel",
          "model_module_version": "1.5.0",
          "state": {
            "_view_name": "HTMLView",
            "style": "IPY_MODEL_d04663cb70a048c7ba5a6d60e6f27b92",
            "_dom_classes": [],
            "description": "",
            "_model_name": "HTMLModel",
            "placeholder": "​",
            "_view_module": "@jupyter-widgets/controls",
            "_model_module_version": "1.5.0",
            "value": " 313/313 [00:21&lt;00:00, 12.19it/s]",
            "_view_count": null,
            "_view_module_version": "1.5.0",
            "description_tooltip": null,
            "_model_module": "@jupyter-widgets/controls",
            "layout": "IPY_MODEL_23d15342e9ab4c96abf070e8396fc4e0"
          }
        },
        "9e6d23ea07c54a1cbf19641ae7ba513a": {
          "model_module": "@jupyter-widgets/controls",
          "model_name": "DescriptionStyleModel",
          "model_module_version": "1.5.0",
          "state": {
            "_view_name": "StyleView",
            "_model_name": "DescriptionStyleModel",
            "description_width": "",
            "_view_module": "@jupyter-widgets/base",
            "_model_module_version": "1.5.0",
            "_view_count": null,
            "_view_module_version": "1.2.0",
            "_model_module": "@jupyter-widgets/controls"
          }
        },
        "1a680fae445d40839ce6e720c860bb38": {
          "model_module": "@jupyter-widgets/base",
          "model_name": "LayoutModel",
          "model_module_version": "1.2.0",
          "state": {
            "_view_name": "LayoutView",
            "grid_template_rows": null,
            "right": null,
            "justify_content": null,
            "_view_module": "@jupyter-widgets/base",
            "overflow": null,
            "_model_module_version": "1.2.0",
            "_view_count": null,
            "flex_flow": null,
            "width": null,
            "min_width": null,
            "border": null,
            "align_items": null,
            "bottom": null,
            "_model_module": "@jupyter-widgets/base",
            "top": null,
            "grid_column": null,
            "overflow_y": null,
            "overflow_x": null,
            "grid_auto_flow": null,
            "grid_area": null,
            "grid_template_columns": null,
            "flex": null,
            "_model_name": "LayoutModel",
            "justify_items": null,
            "grid_row": null,
            "max_height": null,
            "align_content": null,
            "visibility": null,
            "align_self": null,
            "height": null,
            "min_height": null,
            "padding": null,
            "grid_auto_rows": null,
            "grid_gap": null,
            "max_width": null,
            "order": null,
            "_view_module_version": "1.2.0",
            "grid_template_areas": null,
            "object_position": null,
            "object_fit": null,
            "grid_auto_columns": null,
            "margin": null,
            "display": null,
            "left": null
          }
        },
        "d371a217e37f4186976b261c9bd8a509": {
          "model_module": "@jupyter-widgets/controls",
          "model_name": "ProgressStyleModel",
          "model_module_version": "1.5.0",
          "state": {
            "_view_name": "StyleView",
            "_model_name": "ProgressStyleModel",
            "description_width": "",
            "_view_module": "@jupyter-widgets/base",
            "_model_module_version": "1.5.0",
            "_view_count": null,
            "_view_module_version": "1.2.0",
            "bar_color": null,
            "_model_module": "@jupyter-widgets/controls"
          }
        },
        "d056745a1af24df09d8e8d607b9235d9": {
          "model_module": "@jupyter-widgets/base",
          "model_name": "LayoutModel",
          "model_module_version": "1.2.0",
          "state": {
            "_view_name": "LayoutView",
            "grid_template_rows": null,
            "right": null,
            "justify_content": null,
            "_view_module": "@jupyter-widgets/base",
            "overflow": null,
            "_model_module_version": "1.2.0",
            "_view_count": null,
            "flex_flow": null,
            "width": null,
            "min_width": null,
            "border": null,
            "align_items": null,
            "bottom": null,
            "_model_module": "@jupyter-widgets/base",
            "top": null,
            "grid_column": null,
            "overflow_y": null,
            "overflow_x": null,
            "grid_auto_flow": null,
            "grid_area": null,
            "grid_template_columns": null,
            "flex": null,
            "_model_name": "LayoutModel",
            "justify_items": null,
            "grid_row": null,
            "max_height": null,
            "align_content": null,
            "visibility": null,
            "align_self": null,
            "height": null,
            "min_height": null,
            "padding": null,
            "grid_auto_rows": null,
            "grid_gap": null,
            "max_width": null,
            "order": null,
            "_view_module_version": "1.2.0",
            "grid_template_areas": null,
            "object_position": null,
            "object_fit": null,
            "grid_auto_columns": null,
            "margin": null,
            "display": null,
            "left": null
          }
        },
        "d04663cb70a048c7ba5a6d60e6f27b92": {
          "model_module": "@jupyter-widgets/controls",
          "model_name": "DescriptionStyleModel",
          "model_module_version": "1.5.0",
          "state": {
            "_view_name": "StyleView",
            "_model_name": "DescriptionStyleModel",
            "description_width": "",
            "_view_module": "@jupyter-widgets/base",
            "_model_module_version": "1.5.0",
            "_view_count": null,
            "_view_module_version": "1.2.0",
            "_model_module": "@jupyter-widgets/controls"
          }
        },
        "23d15342e9ab4c96abf070e8396fc4e0": {
          "model_module": "@jupyter-widgets/base",
          "model_name": "LayoutModel",
          "model_module_version": "1.2.0",
          "state": {
            "_view_name": "LayoutView",
            "grid_template_rows": null,
            "right": null,
            "justify_content": null,
            "_view_module": "@jupyter-widgets/base",
            "overflow": null,
            "_model_module_version": "1.2.0",
            "_view_count": null,
            "flex_flow": null,
            "width": null,
            "min_width": null,
            "border": null,
            "align_items": null,
            "bottom": null,
            "_model_module": "@jupyter-widgets/base",
            "top": null,
            "grid_column": null,
            "overflow_y": null,
            "overflow_x": null,
            "grid_auto_flow": null,
            "grid_area": null,
            "grid_template_columns": null,
            "flex": null,
            "_model_name": "LayoutModel",
            "justify_items": null,
            "grid_row": null,
            "max_height": null,
            "align_content": null,
            "visibility": null,
            "align_self": null,
            "height": null,
            "min_height": null,
            "padding": null,
            "grid_auto_rows": null,
            "grid_gap": null,
            "max_width": null,
            "order": null,
            "_view_module_version": "1.2.0",
            "grid_template_areas": null,
            "object_position": null,
            "object_fit": null,
            "grid_auto_columns": null,
            "margin": null,
            "display": null,
            "left": null
          }
        },
        "4c2bb25f29364fcc960d3df4c12b14d1": {
          "model_module": "@jupyter-widgets/controls",
          "model_name": "HBoxModel",
          "model_module_version": "1.5.0",
          "state": {
            "_view_name": "HBoxView",
            "_dom_classes": [],
            "_model_name": "HBoxModel",
            "_view_module": "@jupyter-widgets/controls",
            "_model_module_version": "1.5.0",
            "_view_count": null,
            "_view_module_version": "1.5.0",
            "box_style": "",
            "layout": "IPY_MODEL_e79e7992f7df4e57af63e65f0ed5f3c3",
            "_model_module": "@jupyter-widgets/controls",
            "children": [
              "IPY_MODEL_94a0f27b60c54960aa624b69b9f7479d",
              "IPY_MODEL_f6d09baa758349fe9e6baed9da00c3e0",
              "IPY_MODEL_a7a00af4f6334825918eae50a86e2f7b"
            ]
          }
        },
        "e79e7992f7df4e57af63e65f0ed5f3c3": {
          "model_module": "@jupyter-widgets/base",
          "model_name": "LayoutModel",
          "model_module_version": "1.2.0",
          "state": {
            "_view_name": "LayoutView",
            "grid_template_rows": null,
            "right": null,
            "justify_content": null,
            "_view_module": "@jupyter-widgets/base",
            "overflow": null,
            "_model_module_version": "1.2.0",
            "_view_count": null,
            "flex_flow": null,
            "width": null,
            "min_width": null,
            "border": null,
            "align_items": null,
            "bottom": null,
            "_model_module": "@jupyter-widgets/base",
            "top": null,
            "grid_column": null,
            "overflow_y": null,
            "overflow_x": null,
            "grid_auto_flow": null,
            "grid_area": null,
            "grid_template_columns": null,
            "flex": null,
            "_model_name": "LayoutModel",
            "justify_items": null,
            "grid_row": null,
            "max_height": null,
            "align_content": null,
            "visibility": null,
            "align_self": null,
            "height": null,
            "min_height": null,
            "padding": null,
            "grid_auto_rows": null,
            "grid_gap": null,
            "max_width": null,
            "order": null,
            "_view_module_version": "1.2.0",
            "grid_template_areas": null,
            "object_position": null,
            "object_fit": null,
            "grid_auto_columns": null,
            "margin": null,
            "display": null,
            "left": null
          }
        },
        "94a0f27b60c54960aa624b69b9f7479d": {
          "model_module": "@jupyter-widgets/controls",
          "model_name": "HTMLModel",
          "model_module_version": "1.5.0",
          "state": {
            "_view_name": "HTMLView",
            "style": "IPY_MODEL_700d5042880b406ba4d835a9f46c3add",
            "_dom_classes": [],
            "description": "",
            "_model_name": "HTMLModel",
            "placeholder": "​",
            "_view_module": "@jupyter-widgets/controls",
            "_model_module_version": "1.5.0",
            "value": "Training 1/2:  69%",
            "_view_count": null,
            "_view_module_version": "1.5.0",
            "description_tooltip": null,
            "_model_module": "@jupyter-widgets/controls",
            "layout": "IPY_MODEL_fce51a3a21364135ad3042048089ac4a"
          }
        },
        "f6d09baa758349fe9e6baed9da00c3e0": {
          "model_module": "@jupyter-widgets/controls",
          "model_name": "FloatProgressModel",
          "model_module_version": "1.5.0",
          "state": {
            "_view_name": "ProgressView",
            "style": "IPY_MODEL_ce8ccf79c59b44b18214ca60d8815435",
            "_dom_classes": [],
            "description": "",
            "_model_name": "FloatProgressModel",
            "bar_style": "",
            "max": 3125,
            "_view_module": "@jupyter-widgets/controls",
            "_model_module_version": "1.5.0",
            "value": 2169,
            "_view_count": null,
            "_view_module_version": "1.5.0",
            "orientation": "horizontal",
            "min": 0,
            "description_tooltip": null,
            "_model_module": "@jupyter-widgets/controls",
            "layout": "IPY_MODEL_8c21480180434d8bab8678e9062fde58"
          }
        },
        "a7a00af4f6334825918eae50a86e2f7b": {
          "model_module": "@jupyter-widgets/controls",
          "model_name": "HTMLModel",
          "model_module_version": "1.5.0",
          "state": {
            "_view_name": "HTMLView",
            "style": "IPY_MODEL_42980e51de484a298e9538d347f7fabe",
            "_dom_classes": [],
            "description": "",
            "_model_name": "HTMLModel",
            "placeholder": "​",
            "_view_module": "@jupyter-widgets/controls",
            "_model_module_version": "1.5.0",
            "value": " 2169/3125 [04:19&lt;01:59,  8.00it/s]",
            "_view_count": null,
            "_view_module_version": "1.5.0",
            "description_tooltip": null,
            "_model_module": "@jupyter-widgets/controls",
            "layout": "IPY_MODEL_fa35482a00dd4885aea331917a872362"
          }
        },
        "700d5042880b406ba4d835a9f46c3add": {
          "model_module": "@jupyter-widgets/controls",
          "model_name": "DescriptionStyleModel",
          "model_module_version": "1.5.0",
          "state": {
            "_view_name": "StyleView",
            "_model_name": "DescriptionStyleModel",
            "description_width": "",
            "_view_module": "@jupyter-widgets/base",
            "_model_module_version": "1.5.0",
            "_view_count": null,
            "_view_module_version": "1.2.0",
            "_model_module": "@jupyter-widgets/controls"
          }
        },
        "fce51a3a21364135ad3042048089ac4a": {
          "model_module": "@jupyter-widgets/base",
          "model_name": "LayoutModel",
          "model_module_version": "1.2.0",
          "state": {
            "_view_name": "LayoutView",
            "grid_template_rows": null,
            "right": null,
            "justify_content": null,
            "_view_module": "@jupyter-widgets/base",
            "overflow": null,
            "_model_module_version": "1.2.0",
            "_view_count": null,
            "flex_flow": null,
            "width": null,
            "min_width": null,
            "border": null,
            "align_items": null,
            "bottom": null,
            "_model_module": "@jupyter-widgets/base",
            "top": null,
            "grid_column": null,
            "overflow_y": null,
            "overflow_x": null,
            "grid_auto_flow": null,
            "grid_area": null,
            "grid_template_columns": null,
            "flex": null,
            "_model_name": "LayoutModel",
            "justify_items": null,
            "grid_row": null,
            "max_height": null,
            "align_content": null,
            "visibility": null,
            "align_self": null,
            "height": null,
            "min_height": null,
            "padding": null,
            "grid_auto_rows": null,
            "grid_gap": null,
            "max_width": null,
            "order": null,
            "_view_module_version": "1.2.0",
            "grid_template_areas": null,
            "object_position": null,
            "object_fit": null,
            "grid_auto_columns": null,
            "margin": null,
            "display": null,
            "left": null
          }
        },
        "ce8ccf79c59b44b18214ca60d8815435": {
          "model_module": "@jupyter-widgets/controls",
          "model_name": "ProgressStyleModel",
          "model_module_version": "1.5.0",
          "state": {
            "_view_name": "StyleView",
            "_model_name": "ProgressStyleModel",
            "description_width": "",
            "_view_module": "@jupyter-widgets/base",
            "_model_module_version": "1.5.0",
            "_view_count": null,
            "_view_module_version": "1.2.0",
            "bar_color": null,
            "_model_module": "@jupyter-widgets/controls"
          }
        },
        "8c21480180434d8bab8678e9062fde58": {
          "model_module": "@jupyter-widgets/base",
          "model_name": "LayoutModel",
          "model_module_version": "1.2.0",
          "state": {
            "_view_name": "LayoutView",
            "grid_template_rows": null,
            "right": null,
            "justify_content": null,
            "_view_module": "@jupyter-widgets/base",
            "overflow": null,
            "_model_module_version": "1.2.0",
            "_view_count": null,
            "flex_flow": null,
            "width": null,
            "min_width": null,
            "border": null,
            "align_items": null,
            "bottom": null,
            "_model_module": "@jupyter-widgets/base",
            "top": null,
            "grid_column": null,
            "overflow_y": null,
            "overflow_x": null,
            "grid_auto_flow": null,
            "grid_area": null,
            "grid_template_columns": null,
            "flex": null,
            "_model_name": "LayoutModel",
            "justify_items": null,
            "grid_row": null,
            "max_height": null,
            "align_content": null,
            "visibility": null,
            "align_self": null,
            "height": null,
            "min_height": null,
            "padding": null,
            "grid_auto_rows": null,
            "grid_gap": null,
            "max_width": null,
            "order": null,
            "_view_module_version": "1.2.0",
            "grid_template_areas": null,
            "object_position": null,
            "object_fit": null,
            "grid_auto_columns": null,
            "margin": null,
            "display": null,
            "left": null
          }
        },
        "42980e51de484a298e9538d347f7fabe": {
          "model_module": "@jupyter-widgets/controls",
          "model_name": "DescriptionStyleModel",
          "model_module_version": "1.5.0",
          "state": {
            "_view_name": "StyleView",
            "_model_name": "DescriptionStyleModel",
            "description_width": "",
            "_view_module": "@jupyter-widgets/base",
            "_model_module_version": "1.5.0",
            "_view_count": null,
            "_view_module_version": "1.2.0",
            "_model_module": "@jupyter-widgets/controls"
          }
        },
        "fa35482a00dd4885aea331917a872362": {
          "model_module": "@jupyter-widgets/base",
          "model_name": "LayoutModel",
          "model_module_version": "1.2.0",
          "state": {
            "_view_name": "LayoutView",
            "grid_template_rows": null,
            "right": null,
            "justify_content": null,
            "_view_module": "@jupyter-widgets/base",
            "overflow": null,
            "_model_module_version": "1.2.0",
            "_view_count": null,
            "flex_flow": null,
            "width": null,
            "min_width": null,
            "border": null,
            "align_items": null,
            "bottom": null,
            "_model_module": "@jupyter-widgets/base",
            "top": null,
            "grid_column": null,
            "overflow_y": null,
            "overflow_x": null,
            "grid_auto_flow": null,
            "grid_area": null,
            "grid_template_columns": null,
            "flex": null,
            "_model_name": "LayoutModel",
            "justify_items": null,
            "grid_row": null,
            "max_height": null,
            "align_content": null,
            "visibility": null,
            "align_self": null,
            "height": null,
            "min_height": null,
            "padding": null,
            "grid_auto_rows": null,
            "grid_gap": null,
            "max_width": null,
            "order": null,
            "_view_module_version": "1.2.0",
            "grid_template_areas": null,
            "object_position": null,
            "object_fit": null,
            "grid_auto_columns": null,
            "margin": null,
            "display": null,
            "left": null
          }
        }
      }
    }
  },
  "nbformat": 4,
  "nbformat_minor": 0
}